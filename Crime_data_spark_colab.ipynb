{
  "cells": [
    {
      "cell_type": "code",
      "execution_count": null,
      "metadata": {
        "colab": {
          "base_uri": "https://localhost:8080/"
        },
        "id": "N5RPGDkJa3X0",
        "outputId": "3e102e30-3821-4393-ea10-573324c9e637"
      },
      "outputs": [],
      "source": [
        "import os\n",
        "\n",
        "# Find the latest version of spark 3.x  from http://www.apache.org/dist/spark/ and enter as the spark version\n",
        "# For example:\n",
        "# spark_version = 'spark-3.4.0'\n",
        "spark_version = 'spark-3.5.1'\n",
        "os.environ['SPARK_VERSION']=spark_version\n",
        "\n",
        "# Install Spark and Java\n",
        "!apt-get update\n",
        "!apt-get install openjdk-11-jdk-headless -qq > /dev/null\n",
        "!wget -q http://www.apache.org/dist/spark/$SPARK_VERSION/$SPARK_VERSION-bin-hadoop3.tgz\n",
        "!tar xf $SPARK_VERSION-bin-hadoop3.tgz\n",
        "!pip install -q findspark\n",
        "\n",
        "# Set Environment Variables\n",
        "os.environ[\"JAVA_HOME\"] = \"/usr/lib/jvm/java-11-openjdk-amd64\"\n",
        "os.environ[\"SPARK_HOME\"] = f\"/content/{spark_version}-bin-hadoop3\"\n",
        "\n",
        "# Start a SparkSession\n",
        "import findspark\n",
        "findspark.init()"
      ]
    },
    {
      "cell_type": "code",
      "execution_count": null,
      "metadata": {
        "colab": {
          "base_uri": "https://localhost:8080/",
          "height": 74
        },
        "id": "h4oetn6sefam",
        "outputId": "6a8551b3-9415-4614-a80f-ef53a55b072f"
      },
      "outputs": [],
      "source": [
        "from google.colab import files\n",
        "uploaded = files.upload()"
      ]
    },
    {
      "cell_type": "code",
      "execution_count": null,
      "metadata": {
        "id": "3cnoJkpEa3X3"
      },
      "outputs": [],
      "source": [
        "# Import dependencies\n",
        "from pyspark.sql import SparkSession\n",
        "import time\n",
        "\n",
        "# Create a SparkSession\n",
        "spark = SparkSession.builder.appName(\"SparkSQL\").getOrCreate()"
      ]
    },
    {
      "cell_type": "markdown",
      "metadata": {
        "id": "Q-HbqH1ta3X3"
      },
      "source": [
        "### Extract the crime Data"
      ]
    },
    {
      "cell_type": "code",
      "execution_count": null,
      "metadata": {
        "colab": {
          "base_uri": "https://localhost:8080/"
        },
        "id": "rsTNmsCna3X4",
        "outputId": "f49a0c42-2cba-495e-a05c-13861388dc62",
        "scrolled": false
      },
      "outputs": [],
      "source": [
        "# Read the data into a DataFrame\n",
        "from pyspark import SparkFiles\n",
        "crimes_df = spark.read.csv(SparkFiles.get(\"/content/Crime_Data_from_2020_to_Present_20240611.csv\"), sep=\",\", header=True)\n",
        "crimes_df.show()\n",
        "\n",
        "\n",
        "\n"
      ]
    },
    {
      "cell_type": "code",
      "execution_count": null,
      "metadata": {
        "id": "YtPdj03mS33v"
      },
      "outputs": [],
      "source": [
        "# Import packages\n",
        "from pyspark.sql import SparkSession\n",
        "from pyspark.sql import Row\n",
        "from pyspark.sql.types import StructType,StructField,StringType, DateType,IntegerType\n",
        "\n",
        "# Create a SparkSession\n",
        "spark = SparkSession.builder.appName(\"SparkSQL\").getOrCreate()"
      ]
    },
    {
      "cell_type": "code",
      "execution_count": null,
      "metadata": {
        "id": "YHtgpSm7UgXK"
      },
      "outputs": [],
      "source": [
        "# Rename Columns\n",
        "df = crimes_df.withColumnRenamed(\"AREA NAME\",\n",
        "                                  \"District\").withColumnRenamed(\"Crm Cd Desc\",\n",
        "                                                          \"Crimes\")\n",
        "\n"
      ]
    },
    {
      "cell_type": "code",
      "execution_count": null,
      "metadata": {
        "colab": {
          "base_uri": "https://localhost:8080/"
        },
        "id": "Tc7PfvWoUzYU",
        "outputId": "8e16ea14-679d-42dd-875b-4434680fa60c"
      },
      "outputs": [],
      "source": [
        "df.show()"
      ]
    },
    {
      "cell_type": "code",
      "execution_count": null,
      "metadata": {
        "id": "OWnW90W1TAQW"
      },
      "outputs": [],
      "source": [
        "#Create temp view\n",
        "df.createOrReplaceTempView('crimesdata')"
      ]
    },
    {
      "cell_type": "code",
      "execution_count": null,
      "metadata": {
        "colab": {
          "base_uri": "https://localhost:8080/"
        },
        "id": "FvWQIwFYRrEt",
        "outputId": "5cda0e8c-6355-46a5-8734-08d4bdd42e0e"
      },
      "outputs": [],
      "source": [
        "# Get highset crime Area/District\n",
        "df_sum = spark.sql(\"SELECT District, count(*) as crimecount FROM crimesdata GROUP BY District Order by crimecount desc\")\n",
        "df_sum.show()"
      ]
    },
    {
      "cell_type": "code",
      "execution_count": null,
      "metadata": {
        "colab": {
          "base_uri": "https://localhost:8080/"
        },
        "id": "spzUymQEZ1n7",
        "outputId": "e1ce0cc1-b51a-4709-df7c-0cced1279666"
      },
      "outputs": [],
      "source": [
        "df.printSchema()"
      ]
    },
    {
      "cell_type": "code",
      "execution_count": null,
      "metadata": {
        "colab": {
          "base_uri": "https://localhost:8080/"
        },
        "id": "WJuu_gUE-hne",
        "outputId": "274b31fd-b511-4d37-bc08-35ce2cac427f"
      },
      "outputs": [],
      "source": [
        "# Get highest Crime type\n",
        "start_time = time.time()\n",
        "df_sum_area = spark.sql(\"SELECT  Crimes, count(*) as crimecount FROM crimesdata GROUP BY  Crimes Order by  crimecount desc\")\n",
        "df_sum_area.show()\n",
        "\n",
        "print(\"--- %s seconds ---\" % (time.time() - start_time))"
      ]
    }
  ],
  "metadata": {
    "colab": {
      "provenance": []
    },
    "kernelspec": {
      "display_name": "Python 3 (ipykernel)",
      "language": "python",
      "name": "python3"
    },
    "language_info": {
      "codemirror_mode": {
        "name": "ipython",
        "version": 3
      },
      "file_extension": ".py",
      "mimetype": "text/x-python",
      "name": "python",
      "nbconvert_exporter": "python",
      "pygments_lexer": "ipython3",
      "version": "3.11.5"
    }
  },
  "nbformat": 4,
  "nbformat_minor": 0
}
