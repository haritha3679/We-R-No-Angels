{
 "cells": [
  {
   "cell_type": "code",
   "execution_count": 68,
   "metadata": {},
   "outputs": [],
   "source": [
    "# Import the modules\n",
    "import numpy as np\n",
    "import pandas as pd\n",
    "from pathlib import Path\n",
    "from sklearn.metrics import confusion_matrix, classification_report,accuracy_score\n",
    "from sklearn.preprocessing import LabelEncoder, StandardScaler\n",
    "from sklearn.linear_model import LogisticRegression\n",
    "from sklearn.impute import SimpleImputer\n",
    "\n",
    "import matplotlib.pyplot as plt\n",
    "from sklearn.datasets import make_blobs\n",
    "import sklearn as skl\n",
    "import tensorflow as tf"
   ]
  },
  {
   "attachments": {},
   "cell_type": "markdown",
   "metadata": {},
   "source": [
    "---"
   ]
  },
  {
   "cell_type": "markdown",
   "metadata": {},
   "source": [
    "The goal of the analysis is to identify patterns, trends, and factors contributing to crime in LA. Depending on the specific question we want to answer, our analysis might focus on predicting the occurrence of crimes, identifying crime hotspots, or understanding the factors that influence crime rates."
   ]
  },
  {
   "attachments": {},
   "cell_type": "markdown",
   "metadata": {},
   "source": [
    "## Split the Data into Training and Testing Sets"
   ]
  },
  {
   "attachments": {},
   "cell_type": "markdown",
   "metadata": {},
   "source": [
    "### Step 1: Read the `Crime_Data_from_2020_to_Present_20240611.csv.csv` data from the `static\\data\\` folder into a Pandas DataFrame."
   ]
  },
  {
   "cell_type": "code",
   "execution_count": 69,
   "metadata": {},
   "outputs": [
    {
     "data": {
      "text/html": [
       "<div>\n",
       "<style scoped>\n",
       "    .dataframe tbody tr th:only-of-type {\n",
       "        vertical-align: middle;\n",
       "    }\n",
       "\n",
       "    .dataframe tbody tr th {\n",
       "        vertical-align: top;\n",
       "    }\n",
       "\n",
       "    .dataframe thead th {\n",
       "        text-align: right;\n",
       "    }\n",
       "</style>\n",
       "<table border=\"1\" class=\"dataframe\">\n",
       "  <thead>\n",
       "    <tr style=\"text-align: right;\">\n",
       "      <th></th>\n",
       "      <th>DR_NO</th>\n",
       "      <th>Date Rptd</th>\n",
       "      <th>DATE OCC</th>\n",
       "      <th>TIME OCC</th>\n",
       "      <th>AREA</th>\n",
       "      <th>AREA NAME</th>\n",
       "      <th>Rpt Dist No</th>\n",
       "      <th>Part 1-2</th>\n",
       "      <th>Crm Cd</th>\n",
       "      <th>Crm Cd Desc</th>\n",
       "      <th>...</th>\n",
       "      <th>Status</th>\n",
       "      <th>Status Desc</th>\n",
       "      <th>Crm Cd 1</th>\n",
       "      <th>Crm Cd 2</th>\n",
       "      <th>Crm Cd 3</th>\n",
       "      <th>Crm Cd 4</th>\n",
       "      <th>LOCATION</th>\n",
       "      <th>Cross Street</th>\n",
       "      <th>LAT</th>\n",
       "      <th>LON</th>\n",
       "    </tr>\n",
       "  </thead>\n",
       "  <tbody>\n",
       "    <tr>\n",
       "      <th>0</th>\n",
       "      <td>190326475</td>\n",
       "      <td>3/1/2020 0:00</td>\n",
       "      <td>3/1/2020 0:00</td>\n",
       "      <td>2130</td>\n",
       "      <td>7</td>\n",
       "      <td>Wilshire</td>\n",
       "      <td>784</td>\n",
       "      <td>1</td>\n",
       "      <td>510</td>\n",
       "      <td>VEHICLE - STOLEN</td>\n",
       "      <td>...</td>\n",
       "      <td>AA</td>\n",
       "      <td>Adult Arrest</td>\n",
       "      <td>510.0</td>\n",
       "      <td>998.0</td>\n",
       "      <td>NaN</td>\n",
       "      <td>NaN</td>\n",
       "      <td>1900 S  LONGWOOD                     AV</td>\n",
       "      <td>NaN</td>\n",
       "      <td>34.0375</td>\n",
       "      <td>-118.3506</td>\n",
       "    </tr>\n",
       "    <tr>\n",
       "      <th>1</th>\n",
       "      <td>200106753</td>\n",
       "      <td>2/9/2020 0:00</td>\n",
       "      <td>2/8/2020 0:00</td>\n",
       "      <td>1800</td>\n",
       "      <td>1</td>\n",
       "      <td>Central</td>\n",
       "      <td>182</td>\n",
       "      <td>1</td>\n",
       "      <td>330</td>\n",
       "      <td>BURGLARY FROM VEHICLE</td>\n",
       "      <td>...</td>\n",
       "      <td>IC</td>\n",
       "      <td>Invest Cont</td>\n",
       "      <td>330.0</td>\n",
       "      <td>998.0</td>\n",
       "      <td>NaN</td>\n",
       "      <td>NaN</td>\n",
       "      <td>1000 S  FLOWER                       ST</td>\n",
       "      <td>NaN</td>\n",
       "      <td>34.0444</td>\n",
       "      <td>-118.2628</td>\n",
       "    </tr>\n",
       "    <tr>\n",
       "      <th>2</th>\n",
       "      <td>200320258</td>\n",
       "      <td>11/11/2020 0:00</td>\n",
       "      <td>11/4/2020 0:00</td>\n",
       "      <td>1700</td>\n",
       "      <td>3</td>\n",
       "      <td>Southwest</td>\n",
       "      <td>356</td>\n",
       "      <td>1</td>\n",
       "      <td>480</td>\n",
       "      <td>BIKE - STOLEN</td>\n",
       "      <td>...</td>\n",
       "      <td>IC</td>\n",
       "      <td>Invest Cont</td>\n",
       "      <td>480.0</td>\n",
       "      <td>NaN</td>\n",
       "      <td>NaN</td>\n",
       "      <td>NaN</td>\n",
       "      <td>1400 W  37TH                         ST</td>\n",
       "      <td>NaN</td>\n",
       "      <td>34.0210</td>\n",
       "      <td>-118.3002</td>\n",
       "    </tr>\n",
       "    <tr>\n",
       "      <th>3</th>\n",
       "      <td>200907217</td>\n",
       "      <td>5/10/2023 0:00</td>\n",
       "      <td>3/10/2020 0:00</td>\n",
       "      <td>2037</td>\n",
       "      <td>9</td>\n",
       "      <td>Van Nuys</td>\n",
       "      <td>964</td>\n",
       "      <td>1</td>\n",
       "      <td>343</td>\n",
       "      <td>SHOPLIFTING-GRAND THEFT ($950.01 &amp; OVER)</td>\n",
       "      <td>...</td>\n",
       "      <td>IC</td>\n",
       "      <td>Invest Cont</td>\n",
       "      <td>343.0</td>\n",
       "      <td>NaN</td>\n",
       "      <td>NaN</td>\n",
       "      <td>NaN</td>\n",
       "      <td>14000    RIVERSIDE                    DR</td>\n",
       "      <td>NaN</td>\n",
       "      <td>34.1576</td>\n",
       "      <td>-118.4387</td>\n",
       "    </tr>\n",
       "    <tr>\n",
       "      <th>4</th>\n",
       "      <td>220614831</td>\n",
       "      <td>8/18/2022 0:00</td>\n",
       "      <td>8/17/2020 0:00</td>\n",
       "      <td>1200</td>\n",
       "      <td>6</td>\n",
       "      <td>Hollywood</td>\n",
       "      <td>666</td>\n",
       "      <td>2</td>\n",
       "      <td>354</td>\n",
       "      <td>THEFT OF IDENTITY</td>\n",
       "      <td>...</td>\n",
       "      <td>IC</td>\n",
       "      <td>Invest Cont</td>\n",
       "      <td>354.0</td>\n",
       "      <td>NaN</td>\n",
       "      <td>NaN</td>\n",
       "      <td>NaN</td>\n",
       "      <td>1900    TRANSIENT</td>\n",
       "      <td>NaN</td>\n",
       "      <td>34.0944</td>\n",
       "      <td>-118.3277</td>\n",
       "    </tr>\n",
       "  </tbody>\n",
       "</table>\n",
       "<p>5 rows × 28 columns</p>\n",
       "</div>"
      ],
      "text/plain": [
       "       DR_NO        Date Rptd        DATE OCC  TIME OCC  AREA  AREA NAME  \\\n",
       "0  190326475    3/1/2020 0:00   3/1/2020 0:00      2130     7   Wilshire   \n",
       "1  200106753    2/9/2020 0:00   2/8/2020 0:00      1800     1    Central   \n",
       "2  200320258  11/11/2020 0:00  11/4/2020 0:00      1700     3  Southwest   \n",
       "3  200907217   5/10/2023 0:00  3/10/2020 0:00      2037     9   Van Nuys   \n",
       "4  220614831   8/18/2022 0:00  8/17/2020 0:00      1200     6  Hollywood   \n",
       "\n",
       "   Rpt Dist No  Part 1-2  Crm Cd                               Crm Cd Desc  \\\n",
       "0          784         1     510                          VEHICLE - STOLEN   \n",
       "1          182         1     330                     BURGLARY FROM VEHICLE   \n",
       "2          356         1     480                             BIKE - STOLEN   \n",
       "3          964         1     343  SHOPLIFTING-GRAND THEFT ($950.01 & OVER)   \n",
       "4          666         2     354                         THEFT OF IDENTITY   \n",
       "\n",
       "   ... Status   Status Desc Crm Cd 1 Crm Cd 2  Crm Cd 3 Crm Cd 4  \\\n",
       "0  ...     AA  Adult Arrest    510.0    998.0       NaN      NaN   \n",
       "1  ...     IC   Invest Cont    330.0    998.0       NaN      NaN   \n",
       "2  ...     IC   Invest Cont    480.0      NaN       NaN      NaN   \n",
       "3  ...     IC   Invest Cont    343.0      NaN       NaN      NaN   \n",
       "4  ...     IC   Invest Cont    354.0      NaN       NaN      NaN   \n",
       "\n",
       "                                   LOCATION Cross Street      LAT       LON  \n",
       "0   1900 S  LONGWOOD                     AV          NaN  34.0375 -118.3506  \n",
       "1   1000 S  FLOWER                       ST          NaN  34.0444 -118.2628  \n",
       "2   1400 W  37TH                         ST          NaN  34.0210 -118.3002  \n",
       "3  14000    RIVERSIDE                    DR          NaN  34.1576 -118.4387  \n",
       "4                         1900    TRANSIENT          NaN  34.0944 -118.3277  \n",
       "\n",
       "[5 rows x 28 columns]"
      ]
     },
     "execution_count": 69,
     "metadata": {},
     "output_type": "execute_result"
    }
   ],
   "source": [
    "# Read the CSV file from the Resources folder into a Pandas DataFrame\n",
    "\n",
    "crime_df = pd.read_csv(\n",
    "    Path(\"static\\data\\Crime_Data_from_2020_to_Present_20240611.csv\")            \n",
    "\n",
    ")\n",
    "\n",
    "# Review the DataFrame\n",
    "crime_df.head()\n",
    "# Review the DataFrame\n"
   ]
  },
  {
   "cell_type": "code",
   "execution_count": 70,
   "metadata": {},
   "outputs": [],
   "source": [
    "#Generate our categorical variable list\n",
    "crime_cat = crime_df.dtypes[crime_df.dtypes == \"object\"].index.tolist()"
   ]
  },
  {
   "cell_type": "code",
   "execution_count": 71,
   "metadata": {},
   "outputs": [
    {
     "data": {
      "text/plain": [
       "Date Rptd         1609\n",
       "DATE OCC          1609\n",
       "AREA NAME           21\n",
       "Crm Cd Desc        139\n",
       "Mocodes         306996\n",
       "Vict Sex             5\n",
       "Vict Descent        20\n",
       "Premis Desc        306\n",
       "Weapon Desc         79\n",
       "Status               6\n",
       "Status Desc          6\n",
       "LOCATION         65757\n",
       "Cross Street     10181\n",
       "dtype: int64"
      ]
     },
     "execution_count": 71,
     "metadata": {},
     "output_type": "execute_result"
    }
   ],
   "source": [
    "#Check the number of unique columns in each column\n",
    "crime_df[crime_cat].nunique()"
   ]
  },
  {
   "cell_type": "code",
   "execution_count": 72,
   "metadata": {},
   "outputs": [
    {
     "data": {
      "text/html": [
       "<div>\n",
       "<style scoped>\n",
       "    .dataframe tbody tr th:only-of-type {\n",
       "        vertical-align: middle;\n",
       "    }\n",
       "\n",
       "    .dataframe tbody tr th {\n",
       "        vertical-align: top;\n",
       "    }\n",
       "\n",
       "    .dataframe thead th {\n",
       "        text-align: right;\n",
       "    }\n",
       "</style>\n",
       "<table border=\"1\" class=\"dataframe\">\n",
       "  <thead>\n",
       "    <tr style=\"text-align: right;\">\n",
       "      <th></th>\n",
       "      <th>Crm Cd Desc</th>\n",
       "      <th>CRIMEBIN</th>\n",
       "    </tr>\n",
       "  </thead>\n",
       "  <tbody>\n",
       "    <tr>\n",
       "      <th>0</th>\n",
       "      <td>ARSON</td>\n",
       "      <td>VANDALISM</td>\n",
       "    </tr>\n",
       "    <tr>\n",
       "      <th>1</th>\n",
       "      <td>ASSAULT WITH DEADLY WEAPON ON POLICE OFFICER</td>\n",
       "      <td>VIOLENT</td>\n",
       "    </tr>\n",
       "    <tr>\n",
       "      <th>2</th>\n",
       "      <td>ASSAULT WITH DEADLY WEAPON, AGGRAVATED ASSAULT</td>\n",
       "      <td>VIOLENT</td>\n",
       "    </tr>\n",
       "    <tr>\n",
       "      <th>3</th>\n",
       "      <td>ATTEMPTED ROBBERY</td>\n",
       "      <td>ROBBERY</td>\n",
       "    </tr>\n",
       "    <tr>\n",
       "      <th>4</th>\n",
       "      <td>BATTERY - SIMPLE ASSAULT</td>\n",
       "      <td>VIOLENT</td>\n",
       "    </tr>\n",
       "  </tbody>\n",
       "</table>\n",
       "</div>"
      ],
      "text/plain": [
       "                                      Crm Cd Desc   CRIMEBIN\n",
       "0                                           ARSON  VANDALISM\n",
       "1    ASSAULT WITH DEADLY WEAPON ON POLICE OFFICER    VIOLENT\n",
       "2  ASSAULT WITH DEADLY WEAPON, AGGRAVATED ASSAULT    VIOLENT\n",
       "3                               ATTEMPTED ROBBERY    ROBBERY\n",
       "4                        BATTERY - SIMPLE ASSAULT    VIOLENT"
      ]
     },
     "execution_count": 72,
     "metadata": {},
     "output_type": "execute_result"
    }
   ],
   "source": [
    "\n",
    "# Read the CSV file from the Resources folder into a Pandas DataFrame\n",
    "\n",
    "crimebin_df = pd.read_csv(\n",
    "    Path(\"static\\data\\crime_bins.csv\")            \n",
    "\n",
    ")\n",
    "\n",
    "# Review the DataFrame\n",
    "crimebin_df.head()\n",
    "# Review the DataFrame"
   ]
  },
  {
   "cell_type": "code",
   "execution_count": 73,
   "metadata": {},
   "outputs": [
    {
     "data": {
      "text/html": [
       "<div>\n",
       "<style scoped>\n",
       "    .dataframe tbody tr th:only-of-type {\n",
       "        vertical-align: middle;\n",
       "    }\n",
       "\n",
       "    .dataframe tbody tr th {\n",
       "        vertical-align: top;\n",
       "    }\n",
       "\n",
       "    .dataframe thead th {\n",
       "        text-align: right;\n",
       "    }\n",
       "</style>\n",
       "<table border=\"1\" class=\"dataframe\">\n",
       "  <thead>\n",
       "    <tr style=\"text-align: right;\">\n",
       "      <th></th>\n",
       "      <th>DR_NO</th>\n",
       "      <th>Date Rptd</th>\n",
       "      <th>DATE OCC</th>\n",
       "      <th>TIME OCC</th>\n",
       "      <th>AREA</th>\n",
       "      <th>AREA NAME</th>\n",
       "      <th>Rpt Dist No</th>\n",
       "      <th>Part 1-2</th>\n",
       "      <th>Crm Cd</th>\n",
       "      <th>Crm Cd Desc</th>\n",
       "      <th>...</th>\n",
       "      <th>Status Desc</th>\n",
       "      <th>Crm Cd 1</th>\n",
       "      <th>Crm Cd 2</th>\n",
       "      <th>Crm Cd 3</th>\n",
       "      <th>Crm Cd 4</th>\n",
       "      <th>LOCATION</th>\n",
       "      <th>Cross Street</th>\n",
       "      <th>LAT</th>\n",
       "      <th>LON</th>\n",
       "      <th>CRIMEBIN</th>\n",
       "    </tr>\n",
       "  </thead>\n",
       "  <tbody>\n",
       "    <tr>\n",
       "      <th>0</th>\n",
       "      <td>190326475</td>\n",
       "      <td>3/1/2020 0:00</td>\n",
       "      <td>3/1/2020 0:00</td>\n",
       "      <td>2130</td>\n",
       "      <td>7</td>\n",
       "      <td>Wilshire</td>\n",
       "      <td>784</td>\n",
       "      <td>1</td>\n",
       "      <td>510</td>\n",
       "      <td>VEHICLE - STOLEN</td>\n",
       "      <td>...</td>\n",
       "      <td>Adult Arrest</td>\n",
       "      <td>510.0</td>\n",
       "      <td>998.0</td>\n",
       "      <td>NaN</td>\n",
       "      <td>NaN</td>\n",
       "      <td>1900 S  LONGWOOD                     AV</td>\n",
       "      <td>NaN</td>\n",
       "      <td>34.0375</td>\n",
       "      <td>-118.3506</td>\n",
       "      <td>VEHICLE</td>\n",
       "    </tr>\n",
       "    <tr>\n",
       "      <th>1</th>\n",
       "      <td>221008844</td>\n",
       "      <td>5/6/2022 0:00</td>\n",
       "      <td>11/1/2020 0:00</td>\n",
       "      <td>130</td>\n",
       "      <td>10</td>\n",
       "      <td>West Valley</td>\n",
       "      <td>1029</td>\n",
       "      <td>1</td>\n",
       "      <td>510</td>\n",
       "      <td>VEHICLE - STOLEN</td>\n",
       "      <td>...</td>\n",
       "      <td>Invest Cont</td>\n",
       "      <td>510.0</td>\n",
       "      <td>NaN</td>\n",
       "      <td>NaN</td>\n",
       "      <td>NaN</td>\n",
       "      <td>VALJEAN                      ST</td>\n",
       "      <td>VANOWEN                      AV</td>\n",
       "      <td>34.1939</td>\n",
       "      <td>-118.4859</td>\n",
       "      <td>VEHICLE</td>\n",
       "    </tr>\n",
       "    <tr>\n",
       "      <th>2</th>\n",
       "      <td>200412582</td>\n",
       "      <td>9/9/2020 0:00</td>\n",
       "      <td>9/9/2020 0:00</td>\n",
       "      <td>630</td>\n",
       "      <td>4</td>\n",
       "      <td>Hollenbeck</td>\n",
       "      <td>413</td>\n",
       "      <td>1</td>\n",
       "      <td>510</td>\n",
       "      <td>VEHICLE - STOLEN</td>\n",
       "      <td>...</td>\n",
       "      <td>Invest Cont</td>\n",
       "      <td>510.0</td>\n",
       "      <td>NaN</td>\n",
       "      <td>NaN</td>\n",
       "      <td>NaN</td>\n",
       "      <td>200 E  AVENUE 28</td>\n",
       "      <td>NaN</td>\n",
       "      <td>34.0820</td>\n",
       "      <td>-118.2130</td>\n",
       "      <td>VEHICLE</td>\n",
       "    </tr>\n",
       "    <tr>\n",
       "      <th>3</th>\n",
       "      <td>201810154</td>\n",
       "      <td>4/26/2020 0:00</td>\n",
       "      <td>4/22/2020 0:00</td>\n",
       "      <td>1900</td>\n",
       "      <td>18</td>\n",
       "      <td>Southeast</td>\n",
       "      <td>1802</td>\n",
       "      <td>1</td>\n",
       "      <td>510</td>\n",
       "      <td>VEHICLE - STOLEN</td>\n",
       "      <td>...</td>\n",
       "      <td>Invest Cont</td>\n",
       "      <td>510.0</td>\n",
       "      <td>NaN</td>\n",
       "      <td>NaN</td>\n",
       "      <td>NaN</td>\n",
       "      <td>90TH</td>\n",
       "      <td>WALL</td>\n",
       "      <td>33.9547</td>\n",
       "      <td>-118.2717</td>\n",
       "      <td>VEHICLE</td>\n",
       "    </tr>\n",
       "    <tr>\n",
       "      <th>4</th>\n",
       "      <td>231510293</td>\n",
       "      <td>5/27/2023 0:00</td>\n",
       "      <td>11/24/2020 0:00</td>\n",
       "      <td>200</td>\n",
       "      <td>15</td>\n",
       "      <td>N Hollywood</td>\n",
       "      <td>1504</td>\n",
       "      <td>1</td>\n",
       "      <td>510</td>\n",
       "      <td>VEHICLE - STOLEN</td>\n",
       "      <td>...</td>\n",
       "      <td>Invest Cont</td>\n",
       "      <td>510.0</td>\n",
       "      <td>NaN</td>\n",
       "      <td>NaN</td>\n",
       "      <td>NaN</td>\n",
       "      <td>7500    LAUREL CANYON                BL</td>\n",
       "      <td>NaN</td>\n",
       "      <td>34.2071</td>\n",
       "      <td>-118.3965</td>\n",
       "      <td>VEHICLE</td>\n",
       "    </tr>\n",
       "    <tr>\n",
       "      <th>...</th>\n",
       "      <td>...</td>\n",
       "      <td>...</td>\n",
       "      <td>...</td>\n",
       "      <td>...</td>\n",
       "      <td>...</td>\n",
       "      <td>...</td>\n",
       "      <td>...</td>\n",
       "      <td>...</td>\n",
       "      <td>...</td>\n",
       "      <td>...</td>\n",
       "      <td>...</td>\n",
       "      <td>...</td>\n",
       "      <td>...</td>\n",
       "      <td>...</td>\n",
       "      <td>...</td>\n",
       "      <td>...</td>\n",
       "      <td>...</td>\n",
       "      <td>...</td>\n",
       "      <td>...</td>\n",
       "      <td>...</td>\n",
       "      <td>...</td>\n",
       "    </tr>\n",
       "    <tr>\n",
       "      <th>947678</th>\n",
       "      <td>231008207</td>\n",
       "      <td>4/20/2023 0:00</td>\n",
       "      <td>11/1/2022 0:00</td>\n",
       "      <td>1900</td>\n",
       "      <td>10</td>\n",
       "      <td>West Valley</td>\n",
       "      <td>1077</td>\n",
       "      <td>1</td>\n",
       "      <td>445</td>\n",
       "      <td>DISHONEST EMPLOYEE ATTEMPTED THEFT</td>\n",
       "      <td>...</td>\n",
       "      <td>Adult Arrest</td>\n",
       "      <td>445.0</td>\n",
       "      <td>NaN</td>\n",
       "      <td>NaN</td>\n",
       "      <td>NaN</td>\n",
       "      <td>17300    VENTURA                      BL</td>\n",
       "      <td>NaN</td>\n",
       "      <td>34.1608</td>\n",
       "      <td>-118.5098</td>\n",
       "      <td>theft</td>\n",
       "    </tr>\n",
       "    <tr>\n",
       "      <th>947679</th>\n",
       "      <td>231507120</td>\n",
       "      <td>3/16/2023 0:00</td>\n",
       "      <td>3/12/2023 0:00</td>\n",
       "      <td>2015</td>\n",
       "      <td>15</td>\n",
       "      <td>N Hollywood</td>\n",
       "      <td>1533</td>\n",
       "      <td>1</td>\n",
       "      <td>445</td>\n",
       "      <td>DISHONEST EMPLOYEE ATTEMPTED THEFT</td>\n",
       "      <td>...</td>\n",
       "      <td>Invest Cont</td>\n",
       "      <td>445.0</td>\n",
       "      <td>NaN</td>\n",
       "      <td>NaN</td>\n",
       "      <td>NaN</td>\n",
       "      <td>6000    LAUREL CANYON                BL</td>\n",
       "      <td>NaN</td>\n",
       "      <td>34.1794</td>\n",
       "      <td>-118.3965</td>\n",
       "      <td>theft</td>\n",
       "    </tr>\n",
       "    <tr>\n",
       "      <th>947680</th>\n",
       "      <td>241708301</td>\n",
       "      <td>4/13/2024 0:00</td>\n",
       "      <td>10/30/2023 0:00</td>\n",
       "      <td>2130</td>\n",
       "      <td>17</td>\n",
       "      <td>Devonshire</td>\n",
       "      <td>1782</td>\n",
       "      <td>1</td>\n",
       "      <td>445</td>\n",
       "      <td>DISHONEST EMPLOYEE ATTEMPTED THEFT</td>\n",
       "      <td>...</td>\n",
       "      <td>Invest Cont</td>\n",
       "      <td>445.0</td>\n",
       "      <td>NaN</td>\n",
       "      <td>NaN</td>\n",
       "      <td>NaN</td>\n",
       "      <td>8800    CORBIN                       AV</td>\n",
       "      <td>NaN</td>\n",
       "      <td>34.2302</td>\n",
       "      <td>-118.5623</td>\n",
       "      <td>theft</td>\n",
       "    </tr>\n",
       "    <tr>\n",
       "      <th>947681</th>\n",
       "      <td>241707918</td>\n",
       "      <td>4/2/2024 0:00</td>\n",
       "      <td>1/11/2024 0:00</td>\n",
       "      <td>1959</td>\n",
       "      <td>17</td>\n",
       "      <td>Devonshire</td>\n",
       "      <td>1782</td>\n",
       "      <td>1</td>\n",
       "      <td>445</td>\n",
       "      <td>DISHONEST EMPLOYEE ATTEMPTED THEFT</td>\n",
       "      <td>...</td>\n",
       "      <td>Invest Cont</td>\n",
       "      <td>445.0</td>\n",
       "      <td>NaN</td>\n",
       "      <td>NaN</td>\n",
       "      <td>NaN</td>\n",
       "      <td>8800    CORBIN                       AV</td>\n",
       "      <td>NaN</td>\n",
       "      <td>34.2302</td>\n",
       "      <td>-118.5623</td>\n",
       "      <td>theft</td>\n",
       "    </tr>\n",
       "    <tr>\n",
       "      <th>947682</th>\n",
       "      <td>240504858</td>\n",
       "      <td>1/23/2024 0:00</td>\n",
       "      <td>1/23/2024 0:00</td>\n",
       "      <td>259</td>\n",
       "      <td>5</td>\n",
       "      <td>Harbor</td>\n",
       "      <td>529</td>\n",
       "      <td>1</td>\n",
       "      <td>926</td>\n",
       "      <td>TRAIN WRECKING</td>\n",
       "      <td>...</td>\n",
       "      <td>Invest Cont</td>\n",
       "      <td>926.0</td>\n",
       "      <td>NaN</td>\n",
       "      <td>NaN</td>\n",
       "      <td>NaN</td>\n",
       "      <td>700 N  HENRY FORD                   AV</td>\n",
       "      <td>NaN</td>\n",
       "      <td>33.7798</td>\n",
       "      <td>-118.2414</td>\n",
       "      <td>VANDALISM</td>\n",
       "    </tr>\n",
       "  </tbody>\n",
       "</table>\n",
       "<p>947683 rows × 29 columns</p>\n",
       "</div>"
      ],
      "text/plain": [
       "            DR_NO       Date Rptd         DATE OCC  TIME OCC  AREA  \\\n",
       "0       190326475   3/1/2020 0:00    3/1/2020 0:00      2130     7   \n",
       "1       221008844   5/6/2022 0:00   11/1/2020 0:00       130    10   \n",
       "2       200412582   9/9/2020 0:00    9/9/2020 0:00       630     4   \n",
       "3       201810154  4/26/2020 0:00   4/22/2020 0:00      1900    18   \n",
       "4       231510293  5/27/2023 0:00  11/24/2020 0:00       200    15   \n",
       "...           ...             ...              ...       ...   ...   \n",
       "947678  231008207  4/20/2023 0:00   11/1/2022 0:00      1900    10   \n",
       "947679  231507120  3/16/2023 0:00   3/12/2023 0:00      2015    15   \n",
       "947680  241708301  4/13/2024 0:00  10/30/2023 0:00      2130    17   \n",
       "947681  241707918   4/2/2024 0:00   1/11/2024 0:00      1959    17   \n",
       "947682  240504858  1/23/2024 0:00   1/23/2024 0:00       259     5   \n",
       "\n",
       "          AREA NAME  Rpt Dist No  Part 1-2  Crm Cd  \\\n",
       "0          Wilshire          784         1     510   \n",
       "1       West Valley         1029         1     510   \n",
       "2        Hollenbeck          413         1     510   \n",
       "3         Southeast         1802         1     510   \n",
       "4       N Hollywood         1504         1     510   \n",
       "...             ...          ...       ...     ...   \n",
       "947678  West Valley         1077         1     445   \n",
       "947679  N Hollywood         1533         1     445   \n",
       "947680   Devonshire         1782         1     445   \n",
       "947681   Devonshire         1782         1     445   \n",
       "947682       Harbor          529         1     926   \n",
       "\n",
       "                               Crm Cd Desc  ...   Status Desc  Crm Cd 1  \\\n",
       "0                         VEHICLE - STOLEN  ...  Adult Arrest     510.0   \n",
       "1                         VEHICLE - STOLEN  ...   Invest Cont     510.0   \n",
       "2                         VEHICLE - STOLEN  ...   Invest Cont     510.0   \n",
       "3                         VEHICLE - STOLEN  ...   Invest Cont     510.0   \n",
       "4                         VEHICLE - STOLEN  ...   Invest Cont     510.0   \n",
       "...                                    ...  ...           ...       ...   \n",
       "947678  DISHONEST EMPLOYEE ATTEMPTED THEFT  ...  Adult Arrest     445.0   \n",
       "947679  DISHONEST EMPLOYEE ATTEMPTED THEFT  ...   Invest Cont     445.0   \n",
       "947680  DISHONEST EMPLOYEE ATTEMPTED THEFT  ...   Invest Cont     445.0   \n",
       "947681  DISHONEST EMPLOYEE ATTEMPTED THEFT  ...   Invest Cont     445.0   \n",
       "947682                      TRAIN WRECKING  ...   Invest Cont     926.0   \n",
       "\n",
       "       Crm Cd 2 Crm Cd 3  Crm Cd 4                                  LOCATION  \\\n",
       "0         998.0      NaN       NaN   1900 S  LONGWOOD                     AV   \n",
       "1           NaN      NaN       NaN           VALJEAN                      ST   \n",
       "2           NaN      NaN       NaN                          200 E  AVENUE 28   \n",
       "3           NaN      NaN       NaN                                      90TH   \n",
       "4           NaN      NaN       NaN   7500    LAUREL CANYON                BL   \n",
       "...         ...      ...       ...                                       ...   \n",
       "947678      NaN      NaN       NaN  17300    VENTURA                      BL   \n",
       "947679      NaN      NaN       NaN   6000    LAUREL CANYON                BL   \n",
       "947680      NaN      NaN       NaN   8800    CORBIN                       AV   \n",
       "947681      NaN      NaN       NaN   8800    CORBIN                       AV   \n",
       "947682      NaN      NaN       NaN    700 N  HENRY FORD                   AV   \n",
       "\n",
       "                           Cross Street      LAT       LON   CRIMEBIN  \n",
       "0                                   NaN  34.0375 -118.3506    VEHICLE  \n",
       "1       VANOWEN                      AV  34.1939 -118.4859    VEHICLE  \n",
       "2                                   NaN  34.0820 -118.2130    VEHICLE  \n",
       "3                                  WALL  33.9547 -118.2717    VEHICLE  \n",
       "4                                   NaN  34.2071 -118.3965    VEHICLE  \n",
       "...                                 ...      ...       ...        ...  \n",
       "947678                              NaN  34.1608 -118.5098      theft  \n",
       "947679                              NaN  34.1794 -118.3965      theft  \n",
       "947680                              NaN  34.2302 -118.5623      theft  \n",
       "947681                              NaN  34.2302 -118.5623      theft  \n",
       "947682                              NaN  33.7798 -118.2414  VANDALISM  \n",
       "\n",
       "[947683 rows x 29 columns]"
      ]
     },
     "execution_count": 73,
     "metadata": {},
     "output_type": "execute_result"
    }
   ],
   "source": [
    "merged_df = pd.merge(crime_df, crimebin_df, on='Crm Cd Desc', how='inner')\n",
    "merged_df"
   ]
  },
  {
   "cell_type": "markdown",
   "metadata": {},
   "source": [
    "# Binning. tried with this binning and got 19% "
   ]
  },
  {
   "cell_type": "code",
   "execution_count": 7,
   "metadata": {},
   "outputs": [],
   "source": [
    "# Binning. tried with this binning and got 19% \n",
    "# from sklearn.preprocessing import KBinsDiscretizer\n",
    "# encoder = LabelEncoder()\n",
    "# merged_df['crimecode'] = encoder.fit_transform(merged_df['Crm Cd Desc'])\n",
    "# kbins = KBinsDiscretizer(n_bins=5, encode='ordinal', strategy='uniform')\n",
    "# merged_df['crime_bins'] = kbins.fit_transform(merged_df[['crimecode']])\n",
    "# merged.head()"
   ]
  },
  {
   "cell_type": "code",
   "execution_count": 74,
   "metadata": {},
   "outputs": [],
   "source": [
    "# crime_df.to_csv(\"static\\data\\Crimebinned.csv\")"
   ]
  },
  {
   "attachments": {},
   "cell_type": "markdown",
   "metadata": {},
   "source": [
    "### Step 2: Create the labels set (`y`)  from the “crime” column, and then create the features (`X`) DataFrame from the remaining columns."
   ]
  },
  {
   "cell_type": "markdown",
   "metadata": {},
   "source": [
    "Features are input variable that we will use to predict the target variable.  For Crime analysis, potential features could be \n",
    "1. Temporal Features: Date, time,day of the week,month or season and year of crime\n",
    "2. Spatial Features: Location coordinates, District, Zipcode ( we need to add county and zipcode)\n",
    "3. Crime Characteristic :  Type of crime (Crm cd column),Description of the crime (Crm cd Desc),Crime Severity ( we do not have this)\n",
    "4. socio economic and Demographic features :  like population Density,Median household income, unemployment rate, education level, age distribution, ethnicity distribution  - We do not have this information.\n",
    "\n",
    "Target is dependent Variable  : This is what we want to predict or understand.  potential targets.\n",
    "1. Crime Occurence (whether a crime will occur at a given time and location (binary Classification))\n",
    "2. Crime Type ( the type of crime that will occur (multi-class classification))\n",
    "3. Crime Severity ( the severity level of Crime (regression or classification))\n",
    "\n",
    "\n"
   ]
  },
  {
   "cell_type": "code",
   "execution_count": 75,
   "metadata": {},
   "outputs": [],
   "source": [
    "#Encode the categorical Variables.\n",
    "label_encoder = LabelEncoder()\n",
    "#crime_df['AREA NAME'] = label_encoder.fit_transform(crime_df['AREA NAME'])\n",
    "merged_df['LOCATION'] = label_encoder.fit_transform(merged_df['LOCATION'])\n"
   ]
  },
  {
   "cell_type": "code",
   "execution_count": 76,
   "metadata": {},
   "outputs": [
    {
     "name": "stdout",
     "output_type": "stream",
     "text": [
      "CRIMEBIN\n",
      "theft        273056\n",
      "VIOLENT      235848\n",
      "BURGLARY     120716\n",
      "VEHICLE      109134\n",
      "VANDALISM    100081\n",
      "ROBBERY       36798\n",
      "SEX           23669\n",
      "fraud         22293\n",
      "OTHER         15602\n",
      "CHILD          8924\n",
      "Homicide       1562\n",
      "Name: count, dtype: int64\n"
     ]
    }
   ],
   "source": [
    "# Separate the data into labels and features\n",
    "y = merged_df['CRIMEBIN']\n",
    "print(y.value_counts())"
   ]
  },
  {
   "cell_type": "code",
   "execution_count": 77,
   "metadata": {},
   "outputs": [
    {
     "data": {
      "text/plain": [
       "DR_NO               int64\n",
       "Date Rptd          object\n",
       "DATE OCC           object\n",
       "TIME OCC            int64\n",
       "AREA                int64\n",
       "AREA NAME          object\n",
       "Rpt Dist No         int64\n",
       "Part 1-2            int64\n",
       "Crm Cd              int64\n",
       "Crm Cd Desc        object\n",
       "Mocodes            object\n",
       "Vict Age            int64\n",
       "Vict Sex           object\n",
       "Vict Descent       object\n",
       "Premis Cd         float64\n",
       "Premis Desc        object\n",
       "Weapon Used Cd    float64\n",
       "Weapon Desc        object\n",
       "Status             object\n",
       "Status Desc        object\n",
       "Crm Cd 1          float64\n",
       "Crm Cd 2          float64\n",
       "Crm Cd 3          float64\n",
       "Crm Cd 4          float64\n",
       "LOCATION            int32\n",
       "Cross Street       object\n",
       "LAT               float64\n",
       "LON               float64\n",
       "CRIMEBIN           object\n",
       "dtype: object"
      ]
     },
     "execution_count": 77,
     "metadata": {},
     "output_type": "execute_result"
    }
   ],
   "source": [
    "merged_df.dtypes"
   ]
  },
  {
   "cell_type": "code",
   "execution_count": 78,
   "metadata": {},
   "outputs": [],
   "source": [
    "\n",
    "\n",
    "# Separate the X variable, the features\n",
    "#X = crime_df.drop(columns='')\n",
    "\n",
    "#X['TIME OCC'] = pd.to_datetime(X['TIME OCC'],format='%H:%M').dt.time\n",
    "#X['TIME OCC'] = X['TIME OCC'].apply(lambda x: f'{str(x)[:-2]}:{str(x)[-2:]}')\n",
    "# Function to clean and convert time\n",
    "def clean_time(time_str):\n",
    "\n",
    "    try:\n",
    "        # Convert to string and strip any non-numeric characters\n",
    "        time_str = str(time_str).zfill(4)\n",
    "           # Check if the time string is in HHMM format\n",
    "        if len(time_str) == 4:\n",
    "            return pd.to_datetime(time_str, format='%H%M').time()\n",
    "        else:\n",
    "            return None  # Handle or log the invalid format\n",
    "    except ValueError:\n",
    "        print(time_str)\n",
    "        return None\n",
    "        \n",
    "merged_df['TIMEOCC'] = merged_df['TIME OCC'].apply(clean_time)\n",
    "merged_df['HOUR OCC'] = merged_df['TIMEOCC'].apply(lambda x:x.hour if x is not None else None)\n",
    "\n",
    "#X['TIME OCC'] = pd.to_datetime(X['TIME OCC'], format='%H:%M').dt.hour \n",
    "\n",
    "#X.loc[:,'Date Rptd'] = pd.to_datetime(X['Date Rptd'])\n",
    "#X.loc[:,'DATE OCC'] = pd.to_datetime(X['DATE OCC'])\n",
    "\n"
   ]
  },
  {
   "cell_type": "code",
   "execution_count": 79,
   "metadata": {},
   "outputs": [],
   "source": [
    "X = merged_df[['HOUR OCC','AREA','LOCATION','LAT','LON']]"
   ]
  },
  {
   "cell_type": "code",
   "execution_count": 80,
   "metadata": {},
   "outputs": [
    {
     "name": "stdout",
     "output_type": "stream",
     "text": [
      "CRIMEBIN\n",
      "theft        273056\n",
      "VIOLENT      235848\n",
      "BURGLARY     120716\n",
      "VEHICLE      109134\n",
      "VANDALISM    100081\n",
      "ROBBERY       36798\n",
      "SEX           23669\n",
      "fraud         22293\n",
      "OTHER         15602\n",
      "CHILD          8924\n",
      "Homicide       1562\n",
      "Name: count, dtype: int64\n"
     ]
    }
   ],
   "source": [
    "print(y.value_counts())"
   ]
  },
  {
   "cell_type": "code",
   "execution_count": 81,
   "metadata": {},
   "outputs": [
    {
     "data": {
      "text/plain": [
       "0    VEHICLE\n",
       "1    VEHICLE\n",
       "2    VEHICLE\n",
       "3    VEHICLE\n",
       "4    VEHICLE\n",
       "Name: CRIMEBIN, dtype: object"
      ]
     },
     "execution_count": 81,
     "metadata": {},
     "output_type": "execute_result"
    }
   ],
   "source": [
    "# Review the y variable Series\n",
    "y[:5]"
   ]
  },
  {
   "cell_type": "code",
   "execution_count": 82,
   "metadata": {},
   "outputs": [
    {
     "name": "stdout",
     "output_type": "stream",
     "text": [
      "CRIMEBIN\n",
      "theft        273056\n",
      "VIOLENT      235848\n",
      "BURGLARY     120716\n",
      "VEHICLE      109134\n",
      "VANDALISM    100081\n",
      "ROBBERY       36798\n",
      "SEX           23669\n",
      "fraud         22293\n",
      "OTHER         15602\n",
      "CHILD          8924\n",
      "Homicide       1562\n",
      "Name: count, dtype: int64\n"
     ]
    }
   ],
   "source": [
    "print(y.value_counts())"
   ]
  },
  {
   "cell_type": "code",
   "execution_count": 83,
   "metadata": {},
   "outputs": [
    {
     "data": {
      "text/html": [
       "<div>\n",
       "<style scoped>\n",
       "    .dataframe tbody tr th:only-of-type {\n",
       "        vertical-align: middle;\n",
       "    }\n",
       "\n",
       "    .dataframe tbody tr th {\n",
       "        vertical-align: top;\n",
       "    }\n",
       "\n",
       "    .dataframe thead th {\n",
       "        text-align: right;\n",
       "    }\n",
       "</style>\n",
       "<table border=\"1\" class=\"dataframe\">\n",
       "  <thead>\n",
       "    <tr style=\"text-align: right;\">\n",
       "      <th></th>\n",
       "      <th>HOUR OCC</th>\n",
       "      <th>AREA</th>\n",
       "      <th>LOCATION</th>\n",
       "      <th>LAT</th>\n",
       "      <th>LON</th>\n",
       "    </tr>\n",
       "  </thead>\n",
       "  <tbody>\n",
       "    <tr>\n",
       "      <th>0</th>\n",
       "      <td>21</td>\n",
       "      <td>7</td>\n",
       "      <td>21444</td>\n",
       "      <td>34.0375</td>\n",
       "      <td>-118.3506</td>\n",
       "    </tr>\n",
       "    <tr>\n",
       "      <th>1</th>\n",
       "      <td>1</td>\n",
       "      <td>10</td>\n",
       "      <td>64769</td>\n",
       "      <td>34.1939</td>\n",
       "      <td>-118.4859</td>\n",
       "    </tr>\n",
       "    <tr>\n",
       "      <th>2</th>\n",
       "      <td>6</td>\n",
       "      <td>4</td>\n",
       "      <td>22715</td>\n",
       "      <td>34.0820</td>\n",
       "      <td>-118.2130</td>\n",
       "    </tr>\n",
       "    <tr>\n",
       "      <th>3</th>\n",
       "      <td>19</td>\n",
       "      <td>18</td>\n",
       "      <td>55360</td>\n",
       "      <td>33.9547</td>\n",
       "      <td>-118.2717</td>\n",
       "    </tr>\n",
       "    <tr>\n",
       "      <th>4</th>\n",
       "      <td>2</td>\n",
       "      <td>15</td>\n",
       "      <td>49706</td>\n",
       "      <td>34.2071</td>\n",
       "      <td>-118.3965</td>\n",
       "    </tr>\n",
       "  </tbody>\n",
       "</table>\n",
       "</div>"
      ],
      "text/plain": [
       "   HOUR OCC  AREA  LOCATION      LAT       LON\n",
       "0        21     7     21444  34.0375 -118.3506\n",
       "1         1    10     64769  34.1939 -118.4859\n",
       "2         6     4     22715  34.0820 -118.2130\n",
       "3        19    18     55360  33.9547 -118.2717\n",
       "4         2    15     49706  34.2071 -118.3965"
      ]
     },
     "execution_count": 83,
     "metadata": {},
     "output_type": "execute_result"
    }
   ],
   "source": [
    "# Review the X variable DataFrame\n",
    "X[:5]"
   ]
  },
  {
   "cell_type": "code",
   "execution_count": 84,
   "metadata": {},
   "outputs": [
    {
     "name": "stdout",
     "output_type": "stream",
     "text": [
      "CRIMEBIN\n",
      "theft        273056\n",
      "VIOLENT      235848\n",
      "BURGLARY     120716\n",
      "VEHICLE      109134\n",
      "VANDALISM    100081\n",
      "ROBBERY       36798\n",
      "SEX           23669\n",
      "fraud         22293\n",
      "OTHER         15602\n",
      "CHILD          8924\n",
      "Homicide       1562\n",
      "Name: count, dtype: int64\n"
     ]
    }
   ],
   "source": [
    "print(y.value_counts())"
   ]
  },
  {
   "attachments": {},
   "cell_type": "markdown",
   "metadata": {},
   "source": [
    "### Step 3: Split the data into training and testing datasets by using `train_test_split`."
   ]
  },
  {
   "cell_type": "code",
   "execution_count": 85,
   "metadata": {},
   "outputs": [],
   "source": [
    "# Import the train_test_learn module\n",
    "from sklearn.model_selection import train_test_split\n",
    "\n",
    "# Split the data using train_test_split\n",
    "# Assign a random_state of 1 to the function\n",
    "X_train, X_test, y_train, y_test = train_test_split(X, y, random_state=1)"
   ]
  },
  {
   "cell_type": "code",
   "execution_count": 86,
   "metadata": {},
   "outputs": [
    {
     "name": "stdout",
     "output_type": "stream",
     "text": [
      "CRIMEBIN\n",
      "theft        273056\n",
      "VIOLENT      235848\n",
      "BURGLARY     120716\n",
      "VEHICLE      109134\n",
      "VANDALISM    100081\n",
      "ROBBERY       36798\n",
      "SEX           23669\n",
      "fraud         22293\n",
      "OTHER         15602\n",
      "CHILD          8924\n",
      "Homicide       1562\n",
      "Name: count, dtype: int64\n"
     ]
    }
   ],
   "source": [
    "print(y.value_counts())"
   ]
  },
  {
   "attachments": {},
   "cell_type": "markdown",
   "metadata": {},
   "source": [
    "---"
   ]
  },
  {
   "cell_type": "code",
   "execution_count": 87,
   "metadata": {},
   "outputs": [
    {
     "name": "stdout",
     "output_type": "stream",
     "text": [
      "(758146, 5) (189537, 5) (758146,) (189537,)\n"
     ]
    }
   ],
   "source": [
    "X_train, X_test, y_train, y_test = train_test_split(X, y, test_size=0.2, random_state=1)\n",
    "# Print the shapes to verify\n",
    "print(X_train.shape, X_test.shape, y_train.shape, y_test.shape)"
   ]
  },
  {
   "cell_type": "code",
   "execution_count": 88,
   "metadata": {},
   "outputs": [
    {
     "name": "stdout",
     "output_type": "stream",
     "text": [
      "CRIMEBIN\n",
      "theft        273056\n",
      "VIOLENT      235848\n",
      "BURGLARY     120716\n",
      "VEHICLE      109134\n",
      "VANDALISM    100081\n",
      "ROBBERY       36798\n",
      "SEX           23669\n",
      "fraud         22293\n",
      "OTHER         15602\n",
      "CHILD          8924\n",
      "Homicide       1562\n",
      "Name: count, dtype: int64\n"
     ]
    }
   ],
   "source": [
    "print(y.value_counts())"
   ]
  },
  {
   "attachments": {},
   "cell_type": "markdown",
   "metadata": {},
   "source": [
    "## Create a Logistic Regression Model with the Original Data"
   ]
  },
  {
   "attachments": {},
   "cell_type": "markdown",
   "metadata": {},
   "source": [
    "###  Step 1: Fit a logistic regression model by using the training data (`X_train` and `y_train`)."
   ]
  },
  {
   "cell_type": "code",
   "execution_count": 89,
   "metadata": {},
   "outputs": [],
   "source": [
    "#impute missing values \n",
    "imputer = SimpleImputer(strategy='mean')\n",
    "X_train = imputer.fit_transform(X_train)\n",
    "X_test = imputer.transform(X_test)\n",
    "#Standardize the features \n",
    "scaler = StandardScaler()\n",
    "X_train = scaler.fit_transform(X_train)\n",
    "X_test = scaler.transform(X_test)"
   ]
  },
  {
   "cell_type": "code",
   "execution_count": 94,
   "metadata": {},
   "outputs": [],
   "source": [
    "\n",
    "# Instantiate the Logistic Regression model\n",
    "logistic_regression_model = LogisticRegression(random_state=42,max_iter=1000, solver='saga',n_jobs=-1)\n",
    "\n",
    "# Fit the model using training data\n",
    "lr_model =logistic_regression_model.fit(X_train, y_train)\n"
   ]
  },
  {
   "attachments": {},
   "cell_type": "markdown",
   "metadata": {},
   "source": [
    "### Step 2: Save the predictions on the testing data labels by using the testing feature data (`X_test`) and the fitted model."
   ]
  },
  {
   "cell_type": "code",
   "execution_count": 95,
   "metadata": {},
   "outputs": [],
   "source": [
    "# Make a prediction using the testing data\n",
    "predictions = lr_model.predict(X_test)"
   ]
  },
  {
   "cell_type": "code",
   "execution_count": 41,
   "metadata": {},
   "outputs": [
    {
     "name": "stdout",
     "output_type": "stream",
     "text": [
      "[[ 0.42894584  0.04484097  0.60273844  0.07631285 -0.02021205]\n",
      " [-1.25707362  1.68401612  1.65951004  0.12279212 -0.09212577]\n",
      " [-0.18415215  1.68401612  0.66606518  0.11750765 -0.09238563]\n",
      " ...\n",
      " [ 1.50186731  0.20875848  0.970129   -0.0082386  -0.03753648]\n",
      " [-1.71689711 -1.10258164  1.54951033  0.0155415  -0.02255085]\n",
      " [-0.49070114 -0.11907655 -0.61547923  0.13282059 -0.08365412]]\n"
     ]
    }
   ],
   "source": [
    "print(X_test)"
   ]
  },
  {
   "cell_type": "code",
   "execution_count": 96,
   "metadata": {},
   "outputs": [
    {
     "name": "stdout",
     "output_type": "stream",
     "text": [
      "370428          SEX\n",
      "337786      VIOLENT\n",
      "741938        theft\n",
      "791739    VANDALISM\n",
      "105786     BURGLARY\n",
      "            ...    \n",
      "53442       VEHICLE\n",
      "143807     BURGLARY\n",
      "57967       VEHICLE\n",
      "355556      VIOLENT\n",
      "497135     BURGLARY\n",
      "Name: CRIMEBIN, Length: 189537, dtype: object\n"
     ]
    }
   ],
   "source": [
    "print(y_test)"
   ]
  },
  {
   "attachments": {},
   "cell_type": "markdown",
   "metadata": {},
   "source": [
    "### Step 3: Evaluate the model’s performance by doing the following:\n",
    "\n",
    "* Generate a confusion matrix.\n",
    "\n",
    "* Print the classification report."
   ]
  },
  {
   "cell_type": "code",
   "execution_count": 97,
   "metadata": {},
   "outputs": [
    {
     "data": {
      "text/plain": [
       "array([[    0,     0,     0,     0,     0,     0,     1,     0,  6033,\n",
       "            0, 18161],\n",
       "       [    0,     0,     0,     0,     0,     0,     0,     0,   466,\n",
       "            0,  1337],\n",
       "       [    0,     0,     0,     0,     0,     0,     0,     0,   102,\n",
       "            0,   221],\n",
       "       [    0,     0,     0,     0,     0,     0,     2,     0,  1068,\n",
       "            0,  2045],\n",
       "       [    0,     0,     0,     0,     0,     0,     0,     0,  3156,\n",
       "            0,  4249],\n",
       "       [    0,     0,     0,     0,     0,     0,     2,     0,  1201,\n",
       "            0,  3550],\n",
       "       [    0,     0,     0,     0,     0,     0,    12,     0,  5632,\n",
       "            0, 14430],\n",
       "       [    0,     0,     0,     0,     0,     0,     0,     0,  7527,\n",
       "            0, 14461],\n",
       "       [    0,     0,     0,     0,     0,     0,     8,     0, 16058,\n",
       "            0, 31018],\n",
       "       [    0,     0,     0,     0,     0,     0,     2,     0,  1018,\n",
       "            0,  3358],\n",
       "       [    0,     0,     0,     0,     0,     0,     3,     0, 12779,\n",
       "            0, 41637]], dtype=int64)"
      ]
     },
     "execution_count": 97,
     "metadata": {},
     "output_type": "execute_result"
    }
   ],
   "source": [
    "# Generate a confusion matrix for the model\n",
    "confusion_matrix(y_test, predictions)"
   ]
  },
  {
   "cell_type": "code",
   "execution_count": 98,
   "metadata": {},
   "outputs": [
    {
     "name": "stderr",
     "output_type": "stream",
     "text": [
      "c:\\Users\\harit\\anaconda3\\Lib\\site-packages\\sklearn\\metrics\\_classification.py:1469: UndefinedMetricWarning: Precision and F-score are ill-defined and being set to 0.0 in labels with no predicted samples. Use `zero_division` parameter to control this behavior.\n",
      "  _warn_prf(average, modifier, msg_start, len(result))\n",
      "c:\\Users\\harit\\anaconda3\\Lib\\site-packages\\sklearn\\metrics\\_classification.py:1469: UndefinedMetricWarning: Precision and F-score are ill-defined and being set to 0.0 in labels with no predicted samples. Use `zero_division` parameter to control this behavior.\n",
      "  _warn_prf(average, modifier, msg_start, len(result))\n"
     ]
    },
    {
     "name": "stdout",
     "output_type": "stream",
     "text": [
      "              precision    recall  f1-score   support\n",
      "\n",
      "    BURGLARY       0.00      0.00      0.00     24195\n",
      "       CHILD       0.00      0.00      0.00      1803\n",
      "    Homicide       0.00      0.00      0.00       323\n",
      "       OTHER       0.00      0.00      0.00      3115\n",
      "     ROBBERY       0.00      0.00      0.00      7405\n",
      "         SEX       0.00      0.00      0.00      4753\n",
      "   VANDALISM       0.40      0.00      0.00     20074\n",
      "     VEHICLE       0.00      0.00      0.00     21988\n",
      "     VIOLENT       0.29      0.34      0.31     47084\n",
      "       fraud       0.00      0.00      0.00      4378\n",
      "       theft       0.31      0.77      0.44     54419\n",
      "\n",
      "    accuracy                           0.30    189537\n",
      "   macro avg       0.09      0.10      0.07    189537\n",
      "weighted avg       0.20      0.30      0.20    189537\n",
      "\n"
     ]
    },
    {
     "name": "stderr",
     "output_type": "stream",
     "text": [
      "c:\\Users\\harit\\anaconda3\\Lib\\site-packages\\sklearn\\metrics\\_classification.py:1469: UndefinedMetricWarning: Precision and F-score are ill-defined and being set to 0.0 in labels with no predicted samples. Use `zero_division` parameter to control this behavior.\n",
      "  _warn_prf(average, modifier, msg_start, len(result))\n"
     ]
    }
   ],
   "source": [
    "# Print the classification report for the model\n",
    "print(classification_report(y_test, predictions))"
   ]
  }
 ],
 "metadata": {
  "kernelspec": {
   "display_name": "dev",
   "language": "python",
   "name": "python3"
  },
  "language_info": {
   "codemirror_mode": {
    "name": "ipython",
    "version": 3
   },
   "file_extension": ".py",
   "mimetype": "text/x-python",
   "name": "python",
   "nbconvert_exporter": "python",
   "pygments_lexer": "ipython3",
   "version": "3.11.5"
  }
 },
 "nbformat": 4,
 "nbformat_minor": 4
}
